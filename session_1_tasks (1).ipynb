{
  "nbformat": 4,
  "nbformat_minor": 0,
  "metadata": {
    "colab": {
      "provenance": []
    },
    "kernelspec": {
      "name": "python3",
      "display_name": "Python 3"
    },
    "language_info": {
      "name": "python"
    }
  },
  "cells": [
    {
      "cell_type": "markdown",
      "source": [
        "# Task : Session 1\n",
        "Solve these questions own your own and try to test yourself what you have learned in the session.\n",
        "\n",
        "Happy Learning!"
      ],
      "metadata": {
        "id": "A05OG15VqOPF"
      }
    },
    {
      "cell_type": "markdown",
      "source": [
        "### Q1 :- Print the given strings as per stated format.\n",
        "\n",
        "**Given strings**:\n",
        "```\n",
        "\"Data\" \"Science\" \"Mentorship\" \"Program\"\n",
        "\"By\" \"CampusX\"\n",
        "```\n",
        "**Output**:\n",
        "```\n",
        "Data-Science-Mentorship-Program-started-By-CampusX\n",
        "```\n",
        "\n",
        "Concept- [Seperator and End]"
      ],
      "metadata": {
        "id": "2doIXf8bqe9_"
      }
    },
    {
      "cell_type": "code",
      "source": [
        "# Write your code here\n",
        "print(\"Data\",\"Science\",\"Mentorship\",\"Program\",\"By\",\"CampusX\", sep='-')\n"
      ],
      "metadata": {
        "id": "-em6d3KErDtp",
        "outputId": "f0cceefe-6659-4314-e5ec-ce7bcd744bbf",
        "colab": {
          "base_uri": "https://localhost:8080/",
          "height": 0
        }
      },
      "execution_count": 12,
      "outputs": [
        {
          "output_type": "stream",
          "name": "stdout",
          "text": [
            "Data-Science-Mentorship-Program-By-CampusX\n"
          ]
        }
      ]
    },
    {
      "cell_type": "markdown",
      "source": [
        "### Q2:- Write a program that will convert celsius value to fahrenheit."
      ],
      "metadata": {
        "id": "1KUpN7ZTrC3_"
      }
    },
    {
      "cell_type": "code",
      "source": [
        "# Write your code here\n",
        "celcius = int(input(\"Enter the value in celcius: \"))\n",
        "F = (9/5)*(celcius) + 32\n",
        "print(f\"The value in celcius is {F}\")"
      ],
      "metadata": {
        "id": "yxKYhYQiqWfj",
        "outputId": "271f2d49-72e6-4788-ae56-2bd2b8de5acd",
        "colab": {
          "base_uri": "https://localhost:8080/",
          "height": 0
        }
      },
      "execution_count": 13,
      "outputs": [
        {
          "output_type": "stream",
          "name": "stdout",
          "text": [
            "Enter the value in celcius: 2\n",
            "The value in celcius is 35.6\n"
          ]
        }
      ]
    },
    {
      "cell_type": "markdown",
      "source": [
        "### Q3:- Take 2 numbers as input from the user.Write a program to swap the numbers without using any special python syntax."
      ],
      "metadata": {
        "id": "RLrOBBJurLB2"
      }
    },
    {
      "cell_type": "code",
      "source": [
        "from re import A\n",
        "# Write your code here\n",
        "a = int(input(\"Enter the first number: \"))\n",
        "b = int(input(\"Enter the second number: \"))\n",
        "c = a\n",
        "a = b\n",
        "b = c\n",
        "print(f\"After swapping the value of first number is {a}\")\n",
        "print(f\"After swappimg the value of second number is {b}\")"
      ],
      "metadata": {
        "id": "yPn7if0TrJ4F",
        "outputId": "36984042-91bd-4503-b840-6928041e70cb",
        "colab": {
          "base_uri": "https://localhost:8080/",
          "height": 0
        }
      },
      "execution_count": 14,
      "outputs": [
        {
          "output_type": "stream",
          "name": "stdout",
          "text": [
            "Enter the first number: 12\n",
            "Enter the second number: 13\n",
            "After swapping the vale of first number is 13\n",
            "After swappimg the valke of second number is 12\n"
          ]
        }
      ]
    },
    {
      "cell_type": "code",
      "source": [
        "f_num = int(input(\"Enter the first number: \"))\n",
        "s_num = int(input(\"Enter the second number: \"))\n",
        "f_num = f_num + s_num\n",
        "s_num = f_num - s_num\n",
        "f_num = f_num - s_num\n",
        "print(f\"After swapping the value of first number is {f_num}\")\n",
        "print(f\"After swappimg the value of second number is {s_num}\")"
      ],
      "metadata": {
        "id": "YvRV9M_A8m0c",
        "outputId": "7a7cb3ed-572c-41a8-ed16-59abd7bdd354",
        "colab": {
          "base_uri": "https://localhost:8080/",
          "height": 0
        }
      },
      "execution_count": 16,
      "outputs": [
        {
          "output_type": "stream",
          "name": "stdout",
          "text": [
            "Enter the first number: 12\n",
            "Enter the second number: 134\n",
            "After swapping the value of first number is 134\n",
            "After swappimg the value of second number is 12\n"
          ]
        }
      ]
    },
    {
      "cell_type": "markdown",
      "source": [
        "### Q4:- Write a program to find the euclidean distance between two coordinates.Take both the coordinates from the user as input."
      ],
      "metadata": {
        "id": "waLCP1bjr7ML"
      }
    },
    {
      "cell_type": "code",
      "source": [
        "# Write your code here"
      ],
      "metadata": {
        "id": "Pl1Sv-xnrxnH"
      },
      "execution_count": null,
      "outputs": []
    },
    {
      "cell_type": "markdown",
      "source": [
        "### Q5:- Write a program to find the simple interest when the value of principle,rate of interest and time period is provided by the user.\n"
      ],
      "metadata": {
        "id": "VLrhg-FRsHjR"
      }
    },
    {
      "cell_type": "code",
      "source": [
        "# Write your code here\n",
        "# P = Principal amount\n",
        "\n",
        "# R = Rate of interest (per annum)\n",
        "\n",
        "# T = Time period (in years)\n",
        "principal = float(input(\"Enter the amount: \"))\n",
        "rate = float(input(\"Enter the annual interest rate: \"))\n",
        "time = float(input(\"Enter the time in months: \"))\n",
        "si = (principal * (rate/100) * (time/12))\n",
        "print(f\"The simple Interest is {si}\")\n",
        "print(f\"The final amont at the end is {principal + si}\")"
      ],
      "metadata": {
        "id": "s40DlReZsTmY",
        "outputId": "affabd65-dd06-4881-fa2f-0fa8413fa2e8",
        "colab": {
          "base_uri": "https://localhost:8080/",
          "height": 0
        }
      },
      "execution_count": 24,
      "outputs": [
        {
          "output_type": "stream",
          "name": "stdout",
          "text": [
            "Enter the amount: 700000\n",
            "Enter the annual interest rate: 8\n",
            "Enter the time in months: 120\n",
            "The simple Interest is 560000.0\n",
            "The final amont at the end is 1260000.0\n"
          ]
        }
      ]
    },
    {
      "cell_type": "markdown",
      "source": [
        "### Q6:- Write a program that will tell the number of dogs and chicken are there when the user will provide the value of total heads and legs.\n",
        "\n",
        "For example:\n",
        "Input:\n",
        "heads -> 4\n",
        "legs -> 12\n",
        "<br>\n",
        "Output:\n",
        "dogs -> 2\n",
        "chicken -> 2\n",
        "\n",
        "\n",
        "\n"
      ],
      "metadata": {
        "id": "LMy0BTUktYKa"
      }
    },
    {
      "cell_type": "code",
      "source": [
        "# Write your code here\n",
        "heads = int(input(\"Enter the number of heads: \"))\n",
        "legs  = int(input(\"Enter the number of legs: \"))\n",
        "\n",
        "dogs = (legs - 2 * heads) // 2\n",
        "chickens = heads - dogs\n",
        "\n",
        "print(\"Dogs:\", dogs)\n",
        "print(\"Chickens:\", chickens)\n"
      ],
      "metadata": {
        "id": "XSBvJoA4tXaG",
        "outputId": "f432e444-296b-4a07-be02-de09e2d15dae",
        "colab": {
          "base_uri": "https://localhost:8080/",
          "height": 0
        }
      },
      "execution_count": 2,
      "outputs": [
        {
          "output_type": "stream",
          "name": "stdout",
          "text": [
            "Enter the number of heads: 4\n",
            "Enter the number of legs: 12\n",
            "Dogs: 2\n",
            "Chickens: 2\n"
          ]
        }
      ]
    },
    {
      "cell_type": "markdown",
      "source": [
        "### Q7:- Write a program to find the sum of squares of first n natural numbers where n will be provided by the user."
      ],
      "metadata": {
        "id": "gJ7C5kZYt4BP"
      }
    },
    {
      "cell_type": "code",
      "source": [
        "# Write your code here\n",
        "n = int(input(\"Enter the number: \"))\n",
        "sum_of_squares = (n * (n + 1) * (2 * n + 1)) // 6\n",
        "print(f\"The sum of squares of first {n} natural numbers is {sum_of_squares}\")"
      ],
      "metadata": {
        "id": "_tHsmEHzt2nX",
        "outputId": "b59ed10c-ba37-4192-f9e2-28725cd89f40",
        "colab": {
          "base_uri": "https://localhost:8080/",
          "height": 0
        }
      },
      "execution_count": 4,
      "outputs": [
        {
          "output_type": "stream",
          "name": "stdout",
          "text": [
            "Enter the number: 6\n",
            "The sum of squares of first 6 natural numbers is 91\n"
          ]
        }
      ]
    },
    {
      "cell_type": "markdown",
      "source": [
        "### Q8:- Given the first 2 terms of an Arithmetic Series.Find the Nth term of the series. Assume all inputs are provided by the user."
      ],
      "metadata": {
        "id": "FHrMM7g-yG1h"
      }
    },
    {
      "cell_type": "code",
      "source": [
        "# Write your code here\n",
        "# an=a1+(n−1)×d\n",
        "a1 = int(input(\"Please enter the first term: \"))\n",
        "a2 = int(input(\"Please enter the second term: \"))\n",
        "n = int(input(\"Enter the term you want to find: \"))\n",
        "d = a2 - a1\n",
        "an = a1 + (n - 1) * d\n",
        "print(f\"The answe is {an}\")\n"
      ],
      "metadata": {
        "id": "go4_kmZmyVSx",
        "outputId": "bde4b659-c997-4f1c-9140-4451f9aa3371",
        "colab": {
          "base_uri": "https://localhost:8080/",
          "height": 0
        }
      },
      "execution_count": 2,
      "outputs": [
        {
          "output_type": "stream",
          "name": "stdout",
          "text": [
            "Please enter the first term: 20\n",
            "Please enter the second term: 30\n",
            "Enter the term you want to find20\n",
            "The answe is 210\n"
          ]
        }
      ]
    },
    {
      "cell_type": "markdown",
      "source": [
        "### Q9:- Given 2 fractions, find the sum of those 2 fractions.Take the numerator and denominator values of the fractions from the user."
      ],
      "metadata": {
        "id": "QgyRX_es1oum"
      }
    },
    {
      "cell_type": "code",
      "source": [
        "# Write your code here\n",
        "num1 = int(input(\"Enter the numerator of first number: \"))\n",
        "den1 = int(input(\"Enter the denominator of first number: \"))\n",
        "num2 = int(input(\"Enter the numerator of second number: \"))\n",
        "den2 = int(input(\"Enter the denominator of second number: \"))\n",
        "sum = (num1/den1) + (num2/den2)\n",
        "print(f\"The sum of 2 fractions are {sum}\")"
      ],
      "metadata": {
        "id": "X05xqFS1yW16",
        "outputId": "62ed95ad-60d6-4ffd-908f-81efcf5cb0ee",
        "colab": {
          "base_uri": "https://localhost:8080/",
          "height": 0
        }
      },
      "execution_count": 3,
      "outputs": [
        {
          "output_type": "stream",
          "name": "stdout",
          "text": [
            "Enter the numerator of first number: 10\n",
            "Enter the denominator of first number: 2\n",
            "Enyter the numerator of second number: 10\n",
            "Enter the denominator of second number: 2\n",
            "The sum of 2 fractions are 10.0\n"
          ]
        }
      ]
    },
    {
      "cell_type": "markdown",
      "source": [
        "### Q10:- Given the height, width and breadth of a milk tank, you have to find out how many glasses of milk can be obtained? Assume all the inputs are provided by the user.\n",
        "\n",
        "\n",
        "\n",
        "Input:<br>\n",
        "Dimensions of the milk tank<br>\n",
        "H = 20cm, L = 20cm, B = 20cm\n",
        "<br><br>\n",
        "Dimensions of the glass<br>\n",
        "h = 3cm, r = 1cm"
      ],
      "metadata": {
        "id": "eaql38ln13u7"
      }
    },
    {
      "cell_type": "code",
      "source": [
        "# Write your code here\n",
        "import math\n",
        "H = int(input(\"Enter the height of the tank (in cm): \"))\n",
        "L = int(input(\"Enter the length of the tank (in cm): \"))\n",
        "B = int(input(\"Enter the breadth of the tank (in cm): \"))\n",
        "\n",
        "h = int(input(\"Enter the height of the glass (in cm): \"))\n",
        "r = int(input(\"Enter the radius of the glass (in cm): \"))\n",
        "\n",
        "# Calculations\n",
        "tank_volume = H * L * B  # Volume of tank (cuboid)\n",
        "glass_volume = math.pi * (r ** 2) * h  # Volume of one glass (cylinder)\n",
        "\n",
        "# Number of glasses\n",
        "number_of_glasses = tank_volume / glass_volume\n",
        "\n",
        "print(f\"The number of glasses of milk obtained is: {int(number_of_glasses)}\")\n"
      ],
      "metadata": {
        "id": "FePZqno74eWv",
        "outputId": "c6685280-eb86-4c5d-81ff-f0fc626d3cf9",
        "colab": {
          "base_uri": "https://localhost:8080/",
          "height": 0
        }
      },
      "execution_count": 4,
      "outputs": [
        {
          "output_type": "stream",
          "name": "stdout",
          "text": [
            "Enter the height of the tank (in cm): 20\n",
            "Enter the length of the tank (in cm): 20\n",
            "Enter the breadth of the tank (in cm): 20\n",
            "Enter the height of the glass (in cm): 3\n",
            "Enter the radius of the glass (in cm): 1\n",
            "The number of glasses of milk obtained is: 848\n"
          ]
        }
      ]
    }
  ]
}